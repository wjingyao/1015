{
 "cells": [
  {
   "cell_type": "code",
   "execution_count": 148,
   "metadata": {},
   "outputs": [],
   "source": [
    "# Basic Libraries\n",
    "import numpy as np\n",
    "import pandas as pd\n",
    "pd.set_option('display.max_columns', 500)\n",
    "import seaborn as sb\n",
    "import matplotlib.pyplot as plt # we only need pyplot"
   ]
  },
  {
   "cell_type": "code",
   "execution_count": 149,
   "metadata": {},
   "outputs": [],
   "source": [
    "listings = pd.read_csv('data/listings.csv')\n",
    "reviews = pd.read_csv('data/reviews.csv')"
   ]
  },
  {
   "cell_type": "code",
   "execution_count": 150,
   "metadata": {
    "scrolled": true
   },
   "outputs": [],
   "source": [
    "x = [\"listing_url\",\"scrape_id\",\"last_scraped\",\"name\",\"summary\",\"space\",\"description\",\"experiences_offered\",\n",
    "     \"neighborhood_overview\", \"notes\",\"transit\",\"thumbnail_url\",\"medium_url\",\"picture_url\",\"xl_picture_url\",\"host_id\",\n",
    "    \"host_url\",\"host_name\",\"host_since\",\"host_location\",\"host_about\",\"host_thumbnail_url\",\"host_picture_url\",\n",
    "    \"host_neighbourhood\",\"host_listings_count\",\"host_total_listings_count\",\"host_has_profile_pic\",\"host_identity_verified\",\n",
    "    \"street\",\"neighbourhood\",\"neighbourhood_cleansed\",\"city\",\"state\",\"zipcode\",\"market\",\"smart_location\",\"country_code\",\n",
    "    \"country\",\"is_location_exact\",\"square_feet\",\"weekly_price\",\"monthly_price\",\"security_deposit\",\"cleaning_fee\",\n",
    "    \"calendar_updated\",\"has_availability\",\"calendar_last_scraped\",\"requires_license\",\"license\",\"jurisdiction_names\",\n",
    "     \"instant_bookable\",\"require_guest_profile_picture\",\"require_guest_phone_verification\",\"calculated_host_listings_count\",\n",
    "     \"host_response_time\", \"first_review\" , \"last_review\",\"reviews_per_month\",\"host_verifications\"]\n",
    "\n",
    "listings = listings.drop(columns= x)\n",
    "\n",
    "\n",
    "listings['host_response_rate'] = listings['host_response_rate'].str.replace(\"%\", \"\").astype(\"float\")\n",
    "listings['host_response_rate'].fillna(listings['host_response_rate'].mean(),inplace = True)\n",
    "\n",
    "listings['host_acceptance_rate'] = listings['host_acceptance_rate'].str.replace(\"%\", \"\").astype(\"float\")\n",
    "listings['host_acceptance_rate'].fillna(listings['host_acceptance_rate'].mean(),inplace = True)\n",
    "\n",
    "listings['extra_people'] = listings['extra_people'].str.replace(\",\", \"\")\n",
    "listings['extra_people'] = listings['extra_people'].str.replace(\"$\", \"\").astype(\"float\")\n",
    "\n",
    "listings['price'] = listings['price'].str.replace(\",\", \"\")\n",
    "listings['price'] = listings['price'].str.replace(\"$\", \"\").astype(\"float\")\n",
    "\n",
    "listings['bathrooms'] = listings['bathrooms'].fillna(listings['bathrooms'].mode()[0])\n",
    "listings['beds'] = listings['beds'].fillna(listings['beds'].mode()[0])\n",
    "listings['bedrooms'] = listings['bedrooms'].fillna(listings['bedrooms'].mode()[0])\n",
    "\n",
    "reviewColumns = ['review_scores_rating', 'review_scores_accuracy', 'review_scores_cleanliness',\n",
    "                         'review_scores_checkin', 'review_scores_communication', 'review_scores_location',\n",
    "                        'review_scores_value']\n",
    "for column in reviewColumns:\n",
    "    listings[column].fillna(listings[column].mean(), inplace = True)"
   ]
  },
  {
   "cell_type": "code",
   "execution_count": 156,
   "metadata": {},
   "outputs": [],
   "source": [
    "y = listings[\"amenities\"]"
   ]
  },
  {
   "cell_type": "code",
   "execution_count": 152,
   "metadata": {},
   "outputs": [],
   "source": [
    "#str(y[0]).lower().replace('[',\"\").replace(']','').replace('\"','').replace(',','').replace(\"'\",\"\")"
   ]
  }
 ],
 "metadata": {
  "kernelspec": {
   "display_name": "Python 3",
   "language": "python",
   "name": "python3"
  },
  "language_info": {
   "codemirror_mode": {
    "name": "ipython",
    "version": 3
   },
   "file_extension": ".py",
   "mimetype": "text/x-python",
   "name": "python",
   "nbconvert_exporter": "python",
   "pygments_lexer": "ipython3",
   "version": "3.7.4"
  }
 },
 "nbformat": 4,
 "nbformat_minor": 2
}
